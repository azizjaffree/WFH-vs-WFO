{
 "cells": [
  {
   "cell_type": "code",
   "execution_count": null,
   "metadata": {},
   "outputs": [],
   "source": [
    "!pip install tweepy\n",
    "!pip install preprocessor"
   ]
  },
  {
   "cell_type": "code",
   "execution_count": null,
   "metadata": {},
   "outputs": [],
   "source": [
    "from tweepy import *\n",
    " \n",
    "import pandas as pd\n",
    "import csv\n",
    "import re \n",
    "import string\n",
    "import preprocessor as p\n",
    " \n",
    "#consumer_key = <enter your consumer key>\n",
    "#consumer_secret = <enter key>\n",
    "#access_key= <enter key>\n",
    "#access_secret = <enter key>\n",
    "my_api_key = \"JMjbJKHBNjQO1ETvzzCHjCue0\"\n",
    "my_api_secret = \"YhRIcK4NpJKR3PRrJOJywD2XLSwEZ7wP1ZHrJrYBib42LIlFgp\"\n",
    "access_token = \"568868174-YwMBIVYPWhBdCclSkxfIGWbTqIRuvTioQP54TluL\"\n",
    "access_token_secret = \"40k45BFV5Yr1i13ng5yZ8nwaBcNB1UeUqT1k7kLHrPTws\"\n",
    " \n",
    "auth = tweepy.OAuthHandler(consumer_key, consumer_secret)\n",
    "auth.set_access_token(access_token, access_token_secret)\n",
    " \n",
    "api = tweepy.API(auth,wait_on_rate_limit=True)\n",
    " \n",
    "csvFile = open('tweets.csv', 'a')\n",
    "csvWriter = csv.writer(csvFile)\n",
    " \n",
    "search_words = \"Work from Home\"      # enter your words\n",
    "new_search = search_words + \" -filter:retweets\"\n",
    " \n",
    "for tweet in tweepy.Cursor(api.search_tweets,q=new_search,count=100,\n",
    "                           lang=\"en\",\n",
    "                           since_id=0).items():\n",
    "    csvWriter.writerow([tweet.created_at, tweet.text.encode('utf-8'),tweet.user.screen_name.encode('utf-8'), tweet.user.location.encode('utf-8')])"
   ]
  },
  {
   "cell_type": "code",
   "execution_count": null,
   "metadata": {},
   "outputs": [],
   "source": [
    "# import tweepy\n",
    "import tweepy as tw\n",
    "\n",
    "# your Twitter API key and API secret\n",
    "my_api_key = \"JMjbJKHBNjQO1ETvzzCHjCue0\"\n",
    "my_api_secret = \"YhRIcK4NpJKR3PRrJOJywD2XLSwEZ7wP1ZHrJrYBib42LIlFgp\"\n",
    "access_token = \"568868174-YwMBIVYPWhBdCclSkxfIGWbTqIRuvTioQP54TluL\"\n",
    "access_token_secret = \"40k45BFV5Yr1i13ng5yZ8nwaBcNB1UeUqT1k7kLHrPTws\"\n",
    "\n",
    "# authenticate\n",
    "auth = tw.OAuthHandler(my_api_key, my_api_secret)\n",
    "api = tw.API(auth, wait_on_rate_limit=True)"
   ]
  },
  {
   "cell_type": "code",
   "execution_count": null,
   "metadata": {},
   "outputs": [],
   "source": [
    "search_query = \"#covid19 work from home -filter:retweets\""
   ]
  },
  {
   "cell_type": "code",
   "execution_count": null,
   "metadata": {},
   "outputs": [],
   "source": [
    "# get tweets from the API\n",
    "tweets = tw.Cursor(api.search_tweets,\n",
    "              q=search_query,\n",
    "              lang=\"en\",\n",
    "              since=\"2019-11-01\").items(8000)\n",
    "\n",
    "# store the API responses in a list\n",
    "tweets_copy = []\n",
    "for tweet in tweets:\n",
    "    tweets_copy.append(tweet)\n",
    "    \n",
    "print(\"Total Tweets fetched:\", len(tweets_copy))"
   ]
  },
  {
   "cell_type": "code",
   "execution_count": null,
   "metadata": {},
   "outputs": [],
   "source": [
    "import pandas as pd\n",
    "\n",
    "# intialize the dataframe\n",
    "tweets_df = pd.DataFrame()\n",
    "\n",
    "# populate the dataframe\n",
    "for tweet in tweets_copy:\n",
    "    hashtags = []\n",
    "    try:\n",
    "        for hashtag in tweet.entities[\"hashtags\"]:\n",
    "            hashtags.append(hashtag[\"text\"])\n",
    "        text = api.get_status(id=tweet.id, tweet_mode='extended').full_text\n",
    "    except:\n",
    "        pass\n",
    "    tweets_df = tweets_df.append(pd.DataFrame({'user_name': tweet.user.name, \n",
    "                                               'user_location': tweet.user.location,\\\n",
    "                                               'user_description': tweet.user.description,\n",
    "                                               'user_verified': tweet.user.verified,\n",
    "                                               'date': tweet.created_at,\n",
    "                                               'text': text, \n",
    "                                               'hashtags': [hashtags if hashtags else None],\n",
    "                                               'source': tweet.source}))\n",
    "    tweets_df = tweets_df.reset_index(drop=True)\n",
    "\n",
    "# show the dataframe\n",
    "tweets_df.head()"
   ]
  }
 ],
 "metadata": {
  "kernelspec": {
   "display_name": "Python 3",
   "language": "python",
   "name": "python3"
  },
  "language_info": {
   "codemirror_mode": {
    "name": "ipython",
    "version": 3
   },
   "file_extension": ".py",
   "mimetype": "text/x-python",
   "name": "python",
   "nbconvert_exporter": "python",
   "pygments_lexer": "ipython3",
   "version": "3.8.5"
  }
 },
 "nbformat": 4,
 "nbformat_minor": 4
}
